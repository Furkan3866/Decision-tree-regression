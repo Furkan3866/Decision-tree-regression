{
 "cells": [
  {
   "cell_type": "code",
   "execution_count": 49,
   "id": "ab688435",
   "metadata": {},
   "outputs": [],
   "source": [
    "import pandas as pd\n",
    "from sklearn.model_selection import train_test_split,GridSearchCV\n",
    "from sklearn.tree import DecisionTreeRegressor\n",
    "import sklearn.metrics as mt"
   ]
  },
  {
   "cell_type": "code",
   "execution_count": 47,
   "id": "4cb68370",
   "metadata": {},
   "outputs": [
    {
     "name": "stdout",
     "output_type": "stream",
     "text": [
      "     Temperature     Revenue\n",
      "0      24.566884  534.799028\n",
      "1      26.005191  625.190122\n",
      "2      27.790554  660.632289\n",
      "3      20.595335  487.706960\n",
      "4      11.503498  316.240194\n",
      "..           ...         ...\n",
      "495    22.274899  524.746364\n",
      "496    32.893092  755.818399\n",
      "497    12.588157  306.090719\n",
      "498    22.362402  566.217304\n",
      "499    28.957736  655.660388\n",
      "\n",
      "[500 rows x 2 columns]\n"
     ]
    }
   ],
   "source": [
    "data=pd.read_csv(\"https://raw.githubusercontent.com/mk-gurucharan/Regression/master/IceCreamData.csv\")\n",
    "veri=data.copy()\n",
    "print(veri)"
   ]
  },
  {
   "cell_type": "code",
   "execution_count": 43,
   "id": "e5b50bad",
   "metadata": {},
   "outputs": [],
   "source": [
    "y=veri[\"Revenue\"]\n",
    "X=veri[\"Temperature\"]"
   ]
  },
  {
   "cell_type": "code",
   "execution_count": 24,
   "id": "b12e00d0",
   "metadata": {},
   "outputs": [],
   "source": [
    "X_train,X_test,y_train,y_test=train_test_split(X,y,test_size=0.1,random_state=42)"
   ]
  },
  {
   "cell_type": "code",
   "execution_count": 34,
   "id": "438bcc99",
   "metadata": {},
   "outputs": [],
   "source": [
    "model=DecisionTreeRegressor(random_state=0)\n",
    "model.fit(X_train.values.reshape(-1,1),y_train.values.reshape(-1,1))\n",
    "tahmin=model.predict(X_test.values.reshape(-1,1))"
   ]
  },
  {
   "cell_type": "code",
   "execution_count": 35,
   "id": "58b107e6",
   "metadata": {},
   "outputs": [
    {
     "name": "stdout",
     "output_type": "stream",
     "text": [
      "R2: 0.96447587862359  MSE: 1333.2485215987253\n"
     ]
    }
   ],
   "source": [
    "r2=mt.r2_score(y_test,tahmin)\n",
    "mse=mt.mean_squared_error(y_test,tahmin)\n",
    "\n",
    "print(\"R2: {}  MSE: {}\".format(r2,mse))"
   ]
  },
  {
   "cell_type": "code",
   "execution_count": 48,
   "id": "cf7edf75",
   "metadata": {},
   "outputs": [
    {
     "name": "stdout",
     "output_type": "stream",
     "text": [
      "{'max_leaf_nodes': 21, 'min_samples_split': 17}\n"
     ]
    }
   ],
   "source": [
    "parametreler={\"min_samples_split\":range(2,50),\n",
    "             \"max_leaf_nodes\":range(2,50)}\n",
    "grid=GridSearchCV(estimator=model,param_grid=parametreler,cv=10)\n",
    "grid.fit(X_train.values.reshape(-1,1),y_train.values.reshape(-1,1))\n",
    "print(grid.best_params_)"
   ]
  },
  {
   "cell_type": "code",
   "execution_count": 51,
   "id": "8b795063",
   "metadata": {},
   "outputs": [],
   "source": [
    "model=DecisionTreeRegressor(random_state=0,max_leaf_nodes=21,min_samples_split=17)\n",
    "model.fit(X_train.values.reshape(-1,1),y_train.values.reshape(-1,1))\n",
    "tahmin=model.predict(X_test.values.reshape(-1,1))\n",
    "\n",
    "r2=mt.r2_score(y_test,tahmin)\n",
    "mse=mt.mean_squared_error(y_test,tahmin)"
   ]
  },
  {
   "cell_type": "code",
   "execution_count": null,
   "id": "f03e4026",
   "metadata": {},
   "outputs": [],
   "source": []
  }
 ],
 "metadata": {
  "kernelspec": {
   "display_name": "Python 3",
   "language": "python",
   "name": "python3"
  },
  "language_info": {
   "codemirror_mode": {
    "name": "ipython",
    "version": 3
   },
   "file_extension": ".py",
   "mimetype": "text/x-python",
   "name": "python",
   "nbconvert_exporter": "python",
   "pygments_lexer": "ipython3",
   "version": "3.8.8"
  }
 },
 "nbformat": 4,
 "nbformat_minor": 5
}
